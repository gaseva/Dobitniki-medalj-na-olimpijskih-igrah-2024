{
 "cells": [
  {
   "cell_type": "markdown",
   "metadata": {},
   "source": [
    "# Analiza pridobljenih podatkov\n",
    "Analiza je sestavljena iz tabele, ki prikazuje vse podatke, analize vseh športnikov, pregled slovenskih dobitnikov medalj, ter pregled športnih plezalcev, ki so dobili medalje.\n",
    "\n",
    "\n",
    "**Opomba:** Podatke sem pridobila z uradne spletne strani [OI 2024 o dobitnikih medalj](https://olympics.com/en/paris-2024) dne 21. 8. 2024. Verjetnost, da se bodo podatki spremenili je majhna, saj je dogodek končan. V primeru da se uradni rezultati res spremenijo, lahko uporabnik odkomentira spodnji dve vrstici, ter namesto *url z želenega dne* doda nov url, ter požene kodo. Opozoriti moram, da bo koda delovala le za pridobitev podatkov s strani za dobitnike medalj z olimpijskih iger in ne poljubne spletne strani s špornimi rezultati.\n"
   ]
  },
  {
   "cell_type": "code",
   "execution_count": 1,
   "metadata": {},
   "outputs": [],
   "source": [
    "import pandas as pd\n",
    "import zajem_podatkov as koda\n",
    "import matplotlib.pyplot as plt\n",
    "\n",
    "#željen_url = 'url z želenega dne'\n",
    "#koda.main(željen_url, medalists_mapa, medalists_filename, csv_filename)"
   ]
  },
  {
   "cell_type": "markdown",
   "metadata": {},
   "source": [
    "## Analiza vseh dobitnikov medalj"
   ]
  },
  {
   "cell_type": "code",
   "execution_count": 2,
   "metadata": {},
   "outputs": [
    {
     "data": {
      "text/html": [
       "<div>\n",
       "<style scoped>\n",
       "    .dataframe tbody tr th:only-of-type {\n",
       "        vertical-align: middle;\n",
       "    }\n",
       "\n",
       "    .dataframe tbody tr th {\n",
       "        vertical-align: top;\n",
       "    }\n",
       "\n",
       "    .dataframe thead th {\n",
       "        text-align: right;\n",
       "    }\n",
       "</style>\n",
       "<table border=\"1\" class=\"dataframe\">\n",
       "  <thead>\n",
       "    <tr style=\"text-align: right;\">\n",
       "      <th></th>\n",
       "      <th>država</th>\n",
       "      <th>spol</th>\n",
       "      <th>disciplina</th>\n",
       "      <th>zlate</th>\n",
       "      <th>srebrne</th>\n",
       "      <th>bronaste</th>\n",
       "      <th>skupaj</th>\n",
       "    </tr>\n",
       "    <tr>\n",
       "      <th>ime</th>\n",
       "      <th></th>\n",
       "      <th></th>\n",
       "      <th></th>\n",
       "      <th></th>\n",
       "      <th></th>\n",
       "      <th></th>\n",
       "      <th></th>\n",
       "    </tr>\n",
       "  </thead>\n",
       "  <tbody>\n",
       "    <tr>\n",
       "      <th>ZHANG Yufei</th>\n",
       "      <td>China</td>\n",
       "      <td>F</td>\n",
       "      <td>Swimming</td>\n",
       "      <td>0</td>\n",
       "      <td>1</td>\n",
       "      <td>5</td>\n",
       "      <td>6</td>\n",
       "    </tr>\n",
       "    <tr>\n",
       "      <th>MARCHAND Leon</th>\n",
       "      <td>France</td>\n",
       "      <td>M</td>\n",
       "      <td>Swimming</td>\n",
       "      <td>4</td>\n",
       "      <td>0</td>\n",
       "      <td>1</td>\n",
       "      <td>5</td>\n",
       "    </tr>\n",
       "    <tr>\n",
       "      <th>HUSKE Torri</th>\n",
       "      <td>United States</td>\n",
       "      <td>F</td>\n",
       "      <td>Swimming</td>\n",
       "      <td>3</td>\n",
       "      <td>2</td>\n",
       "      <td>0</td>\n",
       "      <td>5</td>\n",
       "    </tr>\n",
       "    <tr>\n",
       "      <th>O'CALLAGHAN Mollie</th>\n",
       "      <td>Australia</td>\n",
       "      <td>F</td>\n",
       "      <td>Swimming</td>\n",
       "      <td>3</td>\n",
       "      <td>1</td>\n",
       "      <td>1</td>\n",
       "      <td>5</td>\n",
       "    </tr>\n",
       "    <tr>\n",
       "      <th>SMITH Regan</th>\n",
       "      <td>United States</td>\n",
       "      <td>F</td>\n",
       "      <td>Swimming</td>\n",
       "      <td>2</td>\n",
       "      <td>3</td>\n",
       "      <td>0</td>\n",
       "      <td>5</td>\n",
       "    </tr>\n",
       "    <tr>\n",
       "      <th>...</th>\n",
       "      <td>...</td>\n",
       "      <td>...</td>\n",
       "      <td>...</td>\n",
       "      <td>...</td>\n",
       "      <td>...</td>\n",
       "      <td>...</td>\n",
       "      <td>...</td>\n",
       "    </tr>\n",
       "    <tr>\n",
       "      <th>WOODHEAD Dylan</th>\n",
       "      <td>United States</td>\n",
       "      <td>M</td>\n",
       "      <td>Water Polo</td>\n",
       "      <td>0</td>\n",
       "      <td>0</td>\n",
       "      <td>1</td>\n",
       "      <td>1</td>\n",
       "    </tr>\n",
       "    <tr>\n",
       "      <th>ABDULLAEV Gulomjon</th>\n",
       "      <td>Uzbekistan</td>\n",
       "      <td>M</td>\n",
       "      <td>Wrestling</td>\n",
       "      <td>0</td>\n",
       "      <td>0</td>\n",
       "      <td>1</td>\n",
       "      <td>1</td>\n",
       "    </tr>\n",
       "    <tr>\n",
       "      <th>TUROBOYEV Muzaffarbek</th>\n",
       "      <td>Uzbekistan</td>\n",
       "      <td>M</td>\n",
       "      <td>Judo</td>\n",
       "      <td>0</td>\n",
       "      <td>0</td>\n",
       "      <td>1</td>\n",
       "      <td>1</td>\n",
       "    </tr>\n",
       "    <tr>\n",
       "      <th>YUSUPOV Alisher</th>\n",
       "      <td>Uzbekistan</td>\n",
       "      <td>M</td>\n",
       "      <td>Judo</td>\n",
       "      <td>0</td>\n",
       "      <td>0</td>\n",
       "      <td>1</td>\n",
       "      <td>1</td>\n",
       "    </tr>\n",
       "    <tr>\n",
       "      <th>SAMUKONGA Muzala</th>\n",
       "      <td>Zambia</td>\n",
       "      <td>M</td>\n",
       "      <td>Athletics</td>\n",
       "      <td>0</td>\n",
       "      <td>0</td>\n",
       "      <td>1</td>\n",
       "      <td>1</td>\n",
       "    </tr>\n",
       "  </tbody>\n",
       "</table>\n",
       "<p>2016 rows × 7 columns</p>\n",
       "</div>"
      ],
      "text/plain": [
       "                              država spol  disciplina  zlate  srebrne  \\\n",
       "ime                                                                     \n",
       "ZHANG Yufei                    China    F    Swimming      0        1   \n",
       "MARCHAND Leon                 France    M    Swimming      4        0   \n",
       "HUSKE Torri            United States    F    Swimming      3        2   \n",
       "O'CALLAGHAN Mollie         Australia    F    Swimming      3        1   \n",
       "SMITH Regan            United States    F    Swimming      2        3   \n",
       "...                              ...  ...         ...    ...      ...   \n",
       "WOODHEAD Dylan         United States    M  Water Polo      0        0   \n",
       "ABDULLAEV Gulomjon        Uzbekistan    M   Wrestling      0        0   \n",
       "TUROBOYEV Muzaffarbek     Uzbekistan    M        Judo      0        0   \n",
       "YUSUPOV Alisher           Uzbekistan    M        Judo      0        0   \n",
       "SAMUKONGA Muzala              Zambia    M   Athletics      0        0   \n",
       "\n",
       "                       bronaste  skupaj  \n",
       "ime                                      \n",
       "ZHANG Yufei                   5       6  \n",
       "MARCHAND Leon                 1       5  \n",
       "HUSKE Torri                   0       5  \n",
       "O'CALLAGHAN Mollie            1       5  \n",
       "SMITH Regan                   0       5  \n",
       "...                         ...     ...  \n",
       "WOODHEAD Dylan                1       1  \n",
       "ABDULLAEV Gulomjon            1       1  \n",
       "TUROBOYEV Muzaffarbek         1       1  \n",
       "YUSUPOV Alisher               1       1  \n",
       "SAMUKONGA Muzala              1       1  \n",
       "\n",
       "[2016 rows x 7 columns]"
      ]
     },
     "execution_count": 2,
     "metadata": {},
     "output_type": "execute_result"
    }
   ],
   "source": [
    "pd.set_option(\"display.max_rows\", 10)\n",
    "podatki = pd.read_csv(\"podatki/dobitniki_medalje.csv\", index_col=\"ime\")\n",
    "podatki"
   ]
  },
  {
   "cell_type": "code",
   "execution_count": 31,
   "metadata": {},
   "outputs": [
    {
     "data": {
      "image/png": "[encoded data removed]",
      "text/plain": [
       "<Figure size 640x480 with 1 Axes>"
      ]
     },
     "metadata": {},
     "output_type": "display_data"
    }
   ],
   "source": [
    "zenske = podatki[podatki['spol'] == 'F']\n",
    "moski = podatki[podatki['spol'] == 'M']\n",
    "razmerje = pd.DataFrame({'število dobitnikov': [len(moski), len(zenske)]},\n",
    "                  index=['moški', 'ženske'])\n",
    "plot = razmerje.plot.pie(y='število dobitnikov', subplots=False)\n"
   ]
  },
  {
   "cell_type": "code",
   "execution_count": 4,
   "metadata": {},
   "outputs": [],
   "source": [
    "\n",
    "najboljsi = podatki[podatki['skupaj'] > 1]\n",
    "najboljsi_zlati = podatki[podatki['zlate'] > 1]\n"
   ]
  },
  {
   "cell_type": "code",
   "execution_count": 27,
   "metadata": {},
   "outputs": [
    {
     "data": {
      "text/plain": [
       "država\n",
       "Cabo Verde         1\n",
       "EOR                1\n",
       "Cyprus             1\n",
       "Côte d'Ivoire      1\n",
       "Dominica           1\n",
       "                ... \n",
       "Netherlands      107\n",
       "China            131\n",
       "Great Britain    131\n",
       "France           168\n",
       "United States    255\n",
       "Length: 92, dtype: int64"
      ]
     },
     "execution_count": 27,
     "metadata": {},
     "output_type": "execute_result"
    }
   ],
   "source": [
    "po_državah = podatki.groupby('država')\n",
    "št_dobitnikov_na_državo = po_državah.size().sort_values()\n",
    "št_dobitnikov_na_državo\n"
   ]
  },
  {
   "cell_type": "markdown",
   "metadata": {},
   "source": [
    "## Analiza slovenskih dobitnikov medalj"
   ]
  },
  {
   "cell_type": "code",
   "execution_count": null,
   "metadata": {},
   "outputs": [],
   "source": []
  },
  {
   "cell_type": "markdown",
   "metadata": {},
   "source": [
    "## Analiza športnih plezalcev, ki so dobili medalje "
   ]
  },
  {
   "cell_type": "code",
   "execution_count": null,
   "metadata": {},
   "outputs": [],
   "source": []
  }
 ],
 "metadata": {
  "kernelspec": {
   "display_name": "Python 3",
   "language": "python",
   "name": "python3"
  },
  "language_info": {
   "codemirror_mode": {
    "name": "ipython",
    "version": 3
   },
   "file_extension": ".py",
   "mimetype": "text/x-python",
   "name": "python",
   "nbconvert_exporter": "python",
   "pygments_lexer": "ipython3",
   "version": "3.12.3"
  }
 },
 "nbformat": 4,
 "nbformat_minor": 2
}
